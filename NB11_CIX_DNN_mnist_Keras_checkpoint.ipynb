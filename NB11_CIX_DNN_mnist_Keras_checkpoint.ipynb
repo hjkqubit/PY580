{
  "cells": [
    {
      "cell_type": "markdown",
      "metadata": {
        "id": "NZCBAbstzOge"
      },
      "source": [
        "# Notebook 11: Introduction to Deep Neural Networks with Keras"
      ]
    },
    {
      "cell_type": "markdown",
      "metadata": {
        "id": "haCFS-g8zOgj"
      },
      "source": [
        "## Learning Goals\n",
        "The goal of this notebook is to introduce deep neural networks (DNNs) using the high-level Keras package. The reader will become familiar with how to choose an architecture, cost function, and optimizer in Keras. We will also learn how to train neural networks.\n",
        "\n",
        "\n",
        "# MNIST with Keras\n",
        "\n",
        "We will once again work with the MNIST dataset of hand written digits introduced in *Notebook 7: Logistic Regression (MNIST)*. The goal is to find a statistical model which recognizes and distinguishes between the ten handwritten digits (0-9).\n",
        "\n",
        "The MNIST dataset comprises $70000$ handwritten digits, each of which comes in a square image, divided into a $28\\times 28$ pixel grid. Every pixel can take on $256$ nuances of the gray color, interpolating between white and black, and hence each data point assumes any value in the set $\\{0,1,\\dots,255\\}$. Since there are $10$ categories in the problem, corresponding to the ten digits, this problem represents a generic classification task. \n",
        "\n",
        "In this Notebook, we show how to use the Keras python package to tackle the MNIST problem with the help of deep neural networks.\n",
        "\n",
        "The following code is a slight modification of a Keras tutorial, see [https://github.com/fchollet/keras/blob/master/examples/mnist_cnn.py](https://github.com/fchollet/keras/blob/master/examples/mnist_cnn.py). We invite the reader to read Sec. IX of the review to acquire a broad understanding of what the separate parts of the code do."
      ]
    },
    {
      "cell_type": "code",
      "execution_count": 2,
      "metadata": {
        "id": "5cyOwRu8zOgk",
        "outputId": "e23ef1c0-59d8-45c7-b6b1-c3c903699b93"
      },
      "outputs": [],
      "source": [
        "from __future__ import print_function\n",
        "import keras,sklearn\n",
        "# suppress tensorflow compilation warnings\n",
        "import os\n",
        "os.environ['KMP_DUPLICATE_LIB_OK']='True'\n",
        "import tensorflow as tf\n",
        "os.environ['TF_CPP_MIN_LOG_LEVEL'] = '2'\n",
        "import numpy as np\n",
        "seed=0\n",
        "np.random.seed(seed) # fix random seed\n",
        "tf.random.set_seed(seed)\n",
        "import matplotlib.pyplot as plt"
      ]
    },
    {
      "cell_type": "markdown",
      "metadata": {
        "id": "o7mZ1Zb1zOgn"
      },
      "source": [
        "## Structure of the Procedure\n",
        "\n",
        "Constructing a Deep Neural Network to solve ML problems is a multiple-stage process. Quite generally, one can identify the key steps as follows:\n",
        "\n",
        "* ***step 1:*** Load and process the data\n",
        "* ***step 2:*** Define the model and its architecture\n",
        "* ***step 3:*** Choose the optimizer and the cost function\n",
        "* ***step 4:*** Train the model \n",
        "* ***step 5:*** Evaluate the model performance on the *unseen* test data\n",
        "* ***step 6:*** Modify the hyperparameters to optimize performance for the specific data set\n",
        "\n",
        "We would like to emphasize that, while it is always possible to view steps 1-5 as independent of the particular task we are trying to solve, it is only when they are put together in ***step 6*** that the real gain of using Deep Learning is revealed, compared to less sophisticated methods such as the regression models or bagging, described in Secs. VII and VIII of the review. With this remark in mind, we shall focus predominantly on steps 1-5 below. We show how one can use grid search methods to find optimal hyperparameters in ***step 6***."
      ]
    },
    {
      "cell_type": "markdown",
      "metadata": {
        "id": "8W_pgOD3zOgo"
      },
      "source": [
        "### Step 1: Load and Process the Data\n",
        "\n",
        "Keras can conveniently download the MNIST data from the web. All we need to do is import the `mnist` module and use the `load_data()` class, and it will create the training and test data sets or us.\n",
        "\n",
        "The MNIST set has pre-defined test and training sets, in order to facilitate the comparison of the performance of different models on the data.\n",
        "\n",
        "Once we have loaded the data, we need to format it in the correct shape. This differs from one package to the other and, as we see in the case of Keras, it can even be different depending on the backend used.\n",
        "\n",
        "While choosing the correct `datatype` can help improve the computational speed, we emphasize the rescaling step, which is necessary to avoid large variations in the minimal and maximal possible values of each feature. In other words, we want to make sure a feature is not being over-represented just because it is \"large\".\n",
        "\n",
        "Last, we cast the label vectors $y$ to binary class matrices (a.k.a. one-hot format), as explained in Sec. VII on SoftMax regression."
      ]
    },
    {
      "cell_type": "code",
      "execution_count": 3,
      "metadata": {
        "id": "59NwUuhnzOgp",
        "outputId": "13f80a0a-4001-4036-947c-4efc2179a9f3"
      },
      "outputs": [
        {
          "name": "stdout",
          "output_type": "stream",
          "text": [
            "Downloading data from https://storage.googleapis.com/tensorflow/tf-keras-datasets/mnist.npz\n",
            "11490434/11490434 [==============================] - 1s 0us/step\n",
            "an example of a data point with label 4\n"
          ]
        },
        {
          "data": {
            "image/png": "[encoded data removed]",
            "text/plain": [
              "<Figure size 480x480 with 1 Axes>"
            ]
          },
          "metadata": {},
          "output_type": "display_data"
        },
        {
          "name": "stdout",
          "output_type": "stream",
          "text": [
            "X_train shape: (60000, 784)\n",
            "Y_train shape: (60000, 10)\n",
            "\n",
            "60000 train samples\n",
            "10000 test samples\n"
          ]
        }
      ],
      "source": [
        "from keras.datasets import mnist\n",
        "\n",
        "# input image dimensions\n",
        "num_classes = 10 # 10 digits\n",
        "\n",
        "img_rows, img_cols = 28, 28 # number of pixels \n",
        "\n",
        "# the data, shuffled and split between train and test sets\n",
        "(X_train, Y_train), (X_test, Y_test) = mnist.load_data()\n",
        "\n",
        "# reshape data, depending on Keras backend\n",
        "X_train = X_train.reshape(X_train.shape[0], img_rows*img_cols)\n",
        "X_test = X_test.reshape(X_test.shape[0], img_rows*img_cols)\n",
        "    \n",
        "# cast floats to single precesion\n",
        "X_train = X_train.astype('float32')\n",
        "X_test = X_test.astype('float32')\n",
        "\n",
        "# rescale data in interval [0,1]\n",
        "X_train /= 255\n",
        "X_test /= 255\n",
        "\n",
        "# look at an example of data point\n",
        "print('an example of a data point with label', Y_train[20])\n",
        "plt.matshow(X_train[20,:].reshape(28,28),cmap='binary')\n",
        "plt.show()\n",
        "\n",
        "# convert class vectors to binary class matrices\n",
        "Y_train = keras.utils.to_categorical(Y_train, num_classes)\n",
        "Y_test = keras.utils.to_categorical(Y_test, num_classes)\n",
        "\n",
        "print('X_train shape:', X_train.shape)\n",
        "print('Y_train shape:', Y_train.shape)\n",
        "print()\n",
        "print(X_train.shape[0], 'train samples')\n",
        "print(X_test.shape[0], 'test samples')"
      ]
    },
    {
      "cell_type": "markdown",
      "metadata": {
        "id": "lAOvX05PzOgq"
      },
      "source": [
        "### Step 2: Define the Neural Net and its Architecture\n",
        "\n",
        "We can now move on to construct our deep neural net. We shall use Keras's `Sequential()` class to instantiate a model, and will add different deep layers one by one.\n",
        "\n",
        "At this stage, we refrain from using convolutional layers. This is done further below.\n",
        "\n",
        "Let us create an instance of Keras' `Sequential()` class, called `model`. As the name suggests, this class allows us to build DNNs layer by layer. We use the `add()` method to attach layers to our model. For the purposes of our introductory example, it suffices to focus on `Dense` layers for simplicity. Every `Dense()` layer accepts as its first required argument an integer which specifies the number of neurons. The type of activation function for the layer is defined using the `activation` optional argument, the input of which is the name of the activation function in `string` format. Examples include `relu`, `tanh`, `elu`, `sigmoid`, `softmax`. \n",
        "\n",
        "In order for our DNN to work properly, we have to make sure that the numbers of input and output neurons for each layer match. Therefore, we specify the shape of the input in the first layer of the model explicitly using the optional argument `input_shape=(N_features,)`. The sequential construction of the model then allows Keras to infer the correct input/output dimensions of all hidden layers automatically. Hence, we only need to specify the size of the softmax output layer to match the number of categories."
      ]
    },
    {
      "cell_type": "code",
      "execution_count": 4,
      "metadata": {
        "id": "YlmOiC0qzOgr",
        "outputId": "b5007939-a198-48f1-c227-1b1a9475a3b3"
      },
      "outputs": [
        {
          "name": "stdout",
          "output_type": "stream",
          "text": [
            "Model architecture created successfully!\n"
          ]
        }
      ],
      "source": [
        "from keras.models import Sequential\n",
        "from keras.layers import Dense, Dropout, Flatten\n",
        "from keras.layers import Conv2D, MaxPooling2D\n",
        "\n",
        "\n",
        "def create_DNN():\n",
        "    # instantiate model\n",
        "    model = Sequential()\n",
        "    # add a dense all-to-all relu layer\n",
        "    model.add(Dense(400,input_shape=(img_rows*img_cols,), activation='relu'))\n",
        "    # add a dense all-to-all relu layer\n",
        "    model.add(Dense(100, activation='relu'))\n",
        "    # apply dropout with rate 0.5\n",
        "    model.add(Dropout(0.5))\n",
        "    # soft-max layer\n",
        "    model.add(Dense(num_classes, activation='softmax'))\n",
        "    \n",
        "    return model\n",
        "\n",
        "print('Model architecture created successfully!')"
      ]
    },
    {
      "cell_type": "markdown",
      "metadata": {
        "id": "V2H-80t4zOgs"
      },
      "source": [
        "### Step 3: Choose the Optimizer and the Cost Function\n",
        "\n",
        "Next, we choose the loss function according to which to train the DNN. For classification problems, this is the cross entropy, and since the output data was cast in categorical form, we choose the `categorical_crossentropy` defined in Keras' `losses` module. Depending on the problem of interest one can pick any other suitable loss function. To optimize the weights of the net, we choose SGD. This algorithm is already available to use under Keras' `optimizers` module, but we could use `Adam()` or any other built-in one as well. The parameters for the optimizer, such as `lr` (learning rate) or `momentum` are passed using the corresponding optional arguments of the `SGD()` function. All available arguments can be found in Keras' online documentation at [https://keras.io/](https://keras.io/). While the loss function and the optimizer are essential for the training procedure, to test the performance of the model one may want to look at a particular `metric` of performance. For instance, in categorical tasks one typically looks at their `accuracy`, which is defined as the percentage of correctly classified data points. To complete the definition of our model, we use the `compile()` method, with optional arguments for the `optimizer`, `loss`, and the validation `metric` as follows:"
      ]
    },
    {
      "cell_type": "code",
      "execution_count": 6,
      "metadata": {
        "id": "jJKklTggzOgs",
        "outputId": "c71619ad-380c-4add-b1a6-41d2d0fe7500"
      },
      "outputs": [
        {
          "name": "stdout",
          "output_type": "stream",
          "text": [
            "Model compiled successfully and ready to be trained.\n"
          ]
        }
      ],
      "source": [
        "def compile_model(optimizer=keras.optimizers.Adam()):\n",
        "    # create the mode\n",
        "    model=create_DNN()\n",
        "    # compile the model\n",
        "    model.compile(loss=keras.losses.categorical_crossentropy,\n",
        "                  optimizer=optimizer,\n",
        "                  metrics=['accuracy'])\n",
        "    return model\n",
        "\n",
        "print('Model compiled successfully and ready to be trained.')"
      ]
    },
    {
      "cell_type": "markdown",
      "metadata": {
        "id": "EKvcd4T1zOgt"
      },
      "source": [
        "### Step 4: Train the model\n",
        "\n",
        "We train our DNN in minibatches, the advantages of which were explained in Sec. IV. \n",
        "\n",
        "Shuffling the training data during training improves stability of the model. Thus, we train over a number of training epochs. \n",
        "\n",
        "Training the DNN is a one-liner using the `fit()` method of the `Sequential` class. The first two required arguments are the training input and output data. As optional arguments, we specify the mini-`batch_size`, the number of training `epochs`, and the test or `validation_data`. To monitor the training procedure for every epoch, we set `verbose=True`. "
      ]
    },
    {
      "cell_type": "code",
      "execution_count": 7,
      "metadata": {
        "id": "vn7p7rPkzOgt",
        "outputId": "d454137e-e960-4c89-dd92-eac29ac328ba"
      },
      "outputs": [
        {
          "name": "stdout",
          "output_type": "stream",
          "text": [
            "Epoch 1/10\n",
            "938/938 [==============================] - 5s 4ms/step - loss: 0.3119 - accuracy: 0.9094 - val_loss: 0.1277 - val_accuracy: 0.9613\n",
            "Epoch 2/10\n",
            "938/938 [==============================] - 4s 4ms/step - loss: 0.1289 - accuracy: 0.9626 - val_loss: 0.0905 - val_accuracy: 0.9692\n",
            "Epoch 3/10\n",
            "938/938 [==============================] - 4s 4ms/step - loss: 0.0905 - accuracy: 0.9740 - val_loss: 0.0879 - val_accuracy: 0.9733\n",
            "Epoch 4/10\n",
            "938/938 [==============================] - 4s 4ms/step - loss: 0.0709 - accuracy: 0.9784 - val_loss: 0.0845 - val_accuracy: 0.9744\n",
            "Epoch 5/10\n",
            "938/938 [==============================] - 4s 4ms/step - loss: 0.0573 - accuracy: 0.9830 - val_loss: 0.0775 - val_accuracy: 0.9768\n",
            "Epoch 6/10\n",
            "938/938 [==============================] - 4s 4ms/step - loss: 0.0473 - accuracy: 0.9854 - val_loss: 0.0725 - val_accuracy: 0.9793\n",
            "Epoch 7/10\n",
            "938/938 [==============================] - 4s 4ms/step - loss: 0.0382 - accuracy: 0.9879 - val_loss: 0.0714 - val_accuracy: 0.9806\n",
            "Epoch 8/10\n",
            "938/938 [==============================] - 4s 4ms/step - loss: 0.0336 - accuracy: 0.9894 - val_loss: 0.0838 - val_accuracy: 0.9784\n",
            "Epoch 9/10\n",
            "938/938 [==============================] - 4s 4ms/step - loss: 0.0301 - accuracy: 0.9910 - val_loss: 0.0794 - val_accuracy: 0.9794\n",
            "Epoch 10/10\n",
            "938/938 [==============================] - 3s 4ms/step - loss: 0.0273 - accuracy: 0.9910 - val_loss: 0.0825 - val_accuracy: 0.9789\n"
          ]
        }
      ],
      "source": [
        "# training parameters\n",
        "batch_size = 64\n",
        "epochs = 10\n",
        "\n",
        "# create the deep neural net\n",
        "model_DNN=compile_model()\n",
        "\n",
        "# train DNN and store training info in history\n",
        "history=model_DNN.fit(X_train, Y_train,\n",
        "          batch_size=batch_size,\n",
        "          epochs=epochs,\n",
        "          verbose=1,\n",
        "          validation_data=(X_test, Y_test))"
      ]
    },
    {
      "cell_type": "markdown",
      "metadata": {
        "id": "7-U0Um0-zOgu"
      },
      "source": [
        "### Step 5: Evaluate the Model Performance on the *Unseen* Test Data\n",
        "\n",
        "Next, we evaluate the model and read of the loss on the test data, and its accuracy using the `evaluate()` method."
      ]
    },
    {
      "cell_type": "code",
      "execution_count": 10,
      "metadata": {
        "id": "uMH1nPHdzOgu",
        "outputId": "cdfa13dd-669c-4c9c-dab4-e523f29a134b"
      },
      "outputs": [
        {
          "name": "stdout",
          "output_type": "stream",
          "text": [
            "313/313 [==============================] - 1s 3ms/step - loss: 0.0825 - accuracy: 0.9789\n",
            "\n",
            "Test loss: 0.08245919644832611\n",
            "Test accuracy: 0.9789000153541565\n"
          ]
        },
        {
          "data": {
            "image/png": "[encoded data removed]",
            "text/plain": [
              "<Figure size 640x480 with 1 Axes>"
            ]
          },
          "metadata": {},
          "output_type": "display_data"
        },
        {
          "data": {
            "image/png": "[encoded data removed]",
            "text/plain": [
              "<Figure size 640x480 with 1 Axes>"
            ]
          },
          "metadata": {},
          "output_type": "display_data"
        }
      ],
      "source": [
        "# evaluate model\n",
        "score = model_DNN.evaluate(X_test, Y_test, verbose=1)\n",
        "\n",
        "# print performance\n",
        "print()\n",
        "print('Test loss:', score[0])\n",
        "print('Test accuracy:', score[1])\n",
        "\n",
        "# look into training history\n",
        "\n",
        "# summarize history for accuracy\n",
        "plt.plot(history.history['accuracy'])\n",
        "plt.plot(history.history['val_accuracy'])\n",
        "plt.ylabel('model accuracy')\n",
        "plt.xlabel('epoch')\n",
        "plt.legend(['train', 'test'], loc='best')\n",
        "plt.show()\n",
        "\n",
        "# summarize history for loss\n",
        "plt.plot(history.history['loss'])\n",
        "plt.plot(history.history['val_loss'])\n",
        "plt.ylabel('model loss')\n",
        "plt.xlabel('epoch')\n",
        "plt.legend(['train', 'test'], loc='best')\n",
        "plt.show()"
      ]
    },
    {
      "cell_type": "markdown",
      "metadata": {
        "collapsed": true,
        "id": "b63Orq3bzOgv"
      },
      "source": [
        "### Step 6: Modify the Hyperparameters to Optimize Performance of the Model\n",
        "\n",
        "Last, we show how to use the grid search option of scikit-learn to optimize the \n",
        "hyperparameters of our model. An excellent blog on this by Jason Brownlee can be found on [https://machinelearningmastery.com/grid-search-hyperparameters-deep-learning-models-python-keras/](https://machinelearningmastery.com/grid-search-hyperparameters-deep-learning-models-python-keras/)."
      ]
    },
    {
      "cell_type": "code",
      "execution_count": 11,
      "metadata": {
        "id": "TsT03H7vzOgw",
        "outputId": "7d7ab657-0d81-43d1-c6a2-9a6e962b8280"
      },
      "outputs": [
        {
          "name": "stderr",
          "output_type": "stream",
          "text": [
            "/var/folders/1c/l_mlyl9156d5f3_tqg5fsjgh0000gn/T/ipykernel_84970/2585860508.py:5: DeprecationWarning: KerasClassifier is deprecated, use Sci-Keras (https://github.com/adriangb/scikeras) instead. See https://www.adriangb.com/scikeras/stable/migration.html for help migrating.\n",
            "  model_gridsearch = KerasClassifier(build_fn=compile_model,\n"
          ]
        },
        {
          "name": "stdout",
          "output_type": "stream",
          "text": [
            "704/704 [==============================] - 3s 3ms/step - loss: 1.1366 - accuracy: 0.6615\n",
            "235/235 [==============================] - 1s 3ms/step - loss: 0.5254 - accuracy: 0.8681\n",
            "704/704 [==============================] - 3s 3ms/step - loss: 1.1310 - accuracy: 0.6635\n",
            "235/235 [==============================] - 1s 2ms/step - loss: 0.5009 - accuracy: 0.8749\n",
            "704/704 [==============================] - 3s 3ms/step - loss: 1.1379 - accuracy: 0.6637\n",
            "235/235 [==============================] - 1s 2ms/step - loss: 0.5288 - accuracy: 0.8684\n",
            "704/704 [==============================] - 3s 3ms/step - loss: 1.1449 - accuracy: 0.6625\n",
            "235/235 [==============================] - 1s 2ms/step - loss: 0.4933 - accuracy: 0.8807\n",
            "704/704 [==============================] - 3s 4ms/step - loss: 0.3414 - accuracy: 0.9000\n",
            "235/235 [==============================] - 1s 3ms/step - loss: 0.1481 - accuracy: 0.9573\n",
            "704/704 [==============================] - 3s 4ms/step - loss: 0.3391 - accuracy: 0.8992\n",
            "235/235 [==============================] - 1s 2ms/step - loss: 0.1363 - accuracy: 0.9575\n",
            "704/704 [==============================] - 3s 4ms/step - loss: 0.3385 - accuracy: 0.9000\n",
            "235/235 [==============================] - 1s 2ms/step - loss: 0.1507 - accuracy: 0.9545\n",
            "704/704 [==============================] - 4s 4ms/step - loss: 0.3480 - accuracy: 0.8964\n",
            "235/235 [==============================] - 1s 3ms/step - loss: 0.1525 - accuracy: 0.9555\n",
            "704/704 [==============================] - 3s 4ms/step - loss: 1.8161 - accuracy: 0.4398\n",
            "235/235 [==============================] - 1s 3ms/step - loss: 1.2269 - accuracy: 0.7754\n",
            "704/704 [==============================] - 3s 4ms/step - loss: 1.7669 - accuracy: 0.4478\n",
            "235/235 [==============================] - 1s 2ms/step - loss: 1.1856 - accuracy: 0.7702\n",
            "704/704 [==============================] - 3s 4ms/step - loss: 1.7168 - accuracy: 0.4756\n",
            "235/235 [==============================] - 1s 2ms/step - loss: 1.1581 - accuracy: 0.7855\n",
            "704/704 [==============================] - 3s 4ms/step - loss: 1.7508 - accuracy: 0.4540\n",
            "235/235 [==============================] - 1s 2ms/step - loss: 1.1571 - accuracy: 0.7931\n",
            "704/704 [==============================] - 4s 4ms/step - loss: 2.3511 - accuracy: 0.1164\n",
            "235/235 [==============================] - 1s 3ms/step - loss: 2.2547 - accuracy: 0.1339\n",
            "704/704 [==============================] - 3s 4ms/step - loss: 2.3266 - accuracy: 0.1080\n",
            "235/235 [==============================] - 1s 2ms/step - loss: 2.2310 - accuracy: 0.1353\n",
            "704/704 [==============================] - 3s 4ms/step - loss: 2.3519 - accuracy: 0.1273\n",
            "235/235 [==============================] - 1s 2ms/step - loss: 2.2369 - accuracy: 0.2002\n",
            "704/704 [==============================] - 3s 4ms/step - loss: 2.3675 - accuracy: 0.1104\n",
            "235/235 [==============================] - 1s 3ms/step - loss: 2.2657 - accuracy: 0.1709\n",
            "704/704 [==============================] - 3s 4ms/step - loss: 0.3570 - accuracy: 0.8931\n",
            "235/235 [==============================] - 1s 2ms/step - loss: 0.1641 - accuracy: 0.9510\n",
            "704/704 [==============================] - 3s 4ms/step - loss: 0.3654 - accuracy: 0.8927\n",
            "235/235 [==============================] - 1s 2ms/step - loss: 0.1465 - accuracy: 0.9553\n",
            "704/704 [==============================] - 3s 4ms/step - loss: 0.3548 - accuracy: 0.8942\n",
            "235/235 [==============================] - 1s 3ms/step - loss: 0.1544 - accuracy: 0.9530\n",
            "704/704 [==============================] - 3s 4ms/step - loss: 0.3613 - accuracy: 0.8941\n",
            "235/235 [==============================] - 1s 2ms/step - loss: 0.1402 - accuracy: 0.9585\n",
            "704/704 [==============================] - 3s 4ms/step - loss: 0.5032 - accuracy: 0.8530\n",
            "235/235 [==============================] - 1s 2ms/step - loss: 0.2310 - accuracy: 0.9339\n",
            "704/704 [==============================] - 4s 4ms/step - loss: 0.5156 - accuracy: 0.8499\n",
            "235/235 [==============================] - 1s 2ms/step - loss: 0.2323 - accuracy: 0.9325\n",
            "704/704 [==============================] - 3s 4ms/step - loss: 0.4824 - accuracy: 0.8586\n",
            "235/235 [==============================] - 1s 2ms/step - loss: 0.2307 - accuracy: 0.9329\n",
            "704/704 [==============================] - 3s 4ms/step - loss: 0.5125 - accuracy: 0.8521\n",
            "235/235 [==============================] - 1s 2ms/step - loss: 0.2162 - accuracy: 0.9373\n",
            "704/704 [==============================] - 4s 4ms/step - loss: 0.3561 - accuracy: 0.8954\n",
            "235/235 [==============================] - 1s 2ms/step - loss: 0.1540 - accuracy: 0.9543\n",
            "704/704 [==============================] - 4s 4ms/step - loss: 0.3533 - accuracy: 0.8979\n",
            "235/235 [==============================] - 1s 2ms/step - loss: 0.1421 - accuracy: 0.9575\n",
            "704/704 [==============================] - 4s 4ms/step - loss: 0.3441 - accuracy: 0.8994\n",
            "235/235 [==============================] - 1s 2ms/step - loss: 0.1688 - accuracy: 0.9465\n",
            "704/704 [==============================] - 4s 5ms/step - loss: 0.3493 - accuracy: 0.8983\n",
            "235/235 [==============================] - 1s 2ms/step - loss: 0.1431 - accuracy: 0.9589\n",
            "938/938 [==============================] - 3s 3ms/step - loss: 0.2983 - accuracy: 0.9129\n",
            "Best: 0.956183 using {'optimizer': 'RMSprop'}\n",
            "0.873033 (0.005199) with: {'optimizer': 'SGD'}\n",
            "0.956183 (0.001268) with: {'optimizer': 'RMSprop'}\n",
            "0.781050 (0.008862) with: {'optimizer': 'Adagrad'}\n",
            "0.160067 (0.027501) with: {'optimizer': 'Adadelta'}\n",
            "0.954450 (0.002799) with: {'optimizer': 'Adam'}\n",
            "0.934150 (0.001876) with: {'optimizer': 'Adamax'}\n",
            "0.954300 (0.004813) with: {'optimizer': 'Nadam'}\n"
          ]
        }
      ],
      "source": [
        "from sklearn.model_selection import GridSearchCV\n",
        "from keras.wrappers.scikit_learn import KerasClassifier\n",
        "\n",
        "# call Keras scikit wrapper\n",
        "model_gridsearch = KerasClassifier(build_fn=compile_model, \n",
        "                        epochs=1, \n",
        "                        batch_size=batch_size, \n",
        "                        verbose=1)\n",
        "\n",
        "# list of allowed optional arguments for the optimizer, see `compile_model()`\n",
        "optimizer = ['SGD', 'RMSprop', 'Adagrad', 'Adadelta', 'Adam', 'Adamax', 'Nadam']\n",
        "# define parameter dictionary\n",
        "param_grid = dict(optimizer=optimizer)\n",
        "# call scikit grid search module\n",
        "grid = GridSearchCV(estimator=model_gridsearch, param_grid=param_grid, n_jobs=1, cv=4)\n",
        "grid_result = grid.fit(X_train,Y_train)\n",
        "\n",
        "# summarize results\n",
        "print(\"Best: %f using %s\" % (grid_result.best_score_, grid_result.best_params_))\n",
        "means = grid_result.cv_results_['mean_test_score']\n",
        "stds = grid_result.cv_results_['std_test_score']\n",
        "params = grid_result.cv_results_['params']\n",
        "for mean, stdev, param in zip(means, stds, params):\n",
        "    print(\"%f (%f) with: %r\" % (mean, stdev, param))\n"
      ]
    },
    {
      "cell_type": "markdown",
      "metadata": {
        "id": "l65xC7k-zOgw"
      },
      "source": [
        "## Creating Convolutional Neural Nets with Keras\n",
        "\n",
        "We have so far considered each MNIST data sample as a $(28\\times 28,)$-long 1d vector. This approach neglects any spatial structure in the image. On the other hand, we do know that in every one of the hand-written digits there are *local* spatial correlations between the pixels, which we would like to take advantage of to improve the accuracy of our classification model. To this end, we first need to reshape the training and test input data as follows"
      ]
    },
    {
      "cell_type": "code",
      "execution_count": 12,
      "metadata": {
        "id": "5hqu9WECzOgx",
        "outputId": "f209c532-703f-43bb-b0a4-eea2dba2e43a"
      },
      "outputs": [
        {
          "name": "stdout",
          "output_type": "stream",
          "text": [
            "X_train shape: (60000, 28, 28, 1)\n",
            "Y_train shape: (60000, 10)\n",
            "\n",
            "60000 train samples\n",
            "10000 test samples\n"
          ]
        }
      ],
      "source": [
        "# reshape data, depending on Keras backend\n",
        "if keras.backend.image_data_format() == 'channels_first':\n",
        "    X_train = X_train.reshape(X_train.shape[0], 1, img_rows, img_cols)\n",
        "    X_test = X_test.reshape(X_test.shape[0], 1, img_rows, img_cols)\n",
        "    input_shape = (1, img_rows, img_cols)\n",
        "else:\n",
        "    X_train = X_train.reshape(X_train.shape[0], img_rows, img_cols, 1)\n",
        "    X_test = X_test.reshape(X_test.shape[0], img_rows, img_cols, 1)\n",
        "    input_shape = (img_rows, img_cols, 1)\n",
        "    \n",
        "print('X_train shape:', X_train.shape)\n",
        "print('Y_train shape:', Y_train.shape)\n",
        "print()\n",
        "print(X_train.shape[0], 'train samples')\n",
        "print(X_test.shape[0], 'test samples')"
      ]
    },
    {
      "cell_type": "markdown",
      "metadata": {
        "id": "Ho-AMHQ4zOgy"
      },
      "source": [
        "One can ask the question of whether a neural net can learn to recognize such local patterns. As we saw in Sec. X of the review, this can be achieved by using convolutional layers. Luckily, all we need to do is change the architecture of our DNN, i.e. introduce small changes to the function `create_model()`. We can also merge **Step 2** and **Step 3** for convenience: "
      ]
    },
    {
      "cell_type": "code",
      "execution_count": 13,
      "metadata": {
        "id": "-BjFqlV5zOgy"
      },
      "outputs": [],
      "source": [
        "def create_CNN():\n",
        "    # instantiate model\n",
        "    model = Sequential()\n",
        "    # add first convolutional layer with 10 filters (dimensionality of output space)\n",
        "    model.add(Conv2D(10, kernel_size=(5, 5),\n",
        "                     activation='relu',\n",
        "                     input_shape=input_shape))\n",
        "    # add 2D pooling layer\n",
        "    model.add(MaxPooling2D(pool_size=(2, 2)))\n",
        "    # add second convolutional layer with 20 filters\n",
        "    model.add(Conv2D(20, (5, 5), activation='relu'))\n",
        "    # apply dropout with rate 0.5\n",
        "    model.add(Dropout(0.5))\n",
        "    # add 2D pooling layer\n",
        "    model.add(MaxPooling2D(pool_size=(2, 2)))\n",
        "    # flatten data\n",
        "    model.add(Flatten())\n",
        "    # add a dense all-to-all relu layer\n",
        "    model.add(Dense(20*4*4, activation='relu'))\n",
        "    # apply dropout with rate 0.5\n",
        "    model.add(Dropout(0.5))\n",
        "    # soft-max layer\n",
        "    model.add(Dense(num_classes, activation='softmax'))\n",
        "    \n",
        "    # compile the model\n",
        "    model.compile(loss=keras.losses.categorical_crossentropy,\n",
        "                  optimizer='Adam',\n",
        "                  metrics=['accuracy'])\n",
        "    \n",
        "    return model"
      ]
    },
    {
      "cell_type": "markdown",
      "metadata": {
        "id": "CTrfxXipzOgz"
      },
      "source": [
        "Training the deep conv net (**Step 4**) and evaluating its performance (**Step 6**) proceeds exactly as before:"
      ]
    },
    {
      "cell_type": "code",
      "execution_count": 14,
      "metadata": {
        "id": "agwbj2WrzOg0",
        "outputId": "8dc279eb-708b-43b8-bf10-530e36ab1250"
      },
      "outputs": [
        {
          "name": "stdout",
          "output_type": "stream",
          "text": [
            "Epoch 1/10\n",
            "938/938 [==============================] - 12s 12ms/step - loss: 0.2619 - accuracy: 0.9195 - val_loss: 0.0826 - val_accuracy: 0.9801\n",
            "Epoch 2/10\n",
            "938/938 [==============================] - 11s 12ms/step - loss: 0.0952 - accuracy: 0.9711 - val_loss: 0.0629 - val_accuracy: 0.9840\n",
            "Epoch 3/10\n",
            "938/938 [==============================] - 12s 13ms/step - loss: 0.0713 - accuracy: 0.9778 - val_loss: 0.0443 - val_accuracy: 0.9898\n",
            "Epoch 4/10\n",
            "938/938 [==============================] - 11s 12ms/step - loss: 0.0615 - accuracy: 0.9814 - val_loss: 0.0399 - val_accuracy: 0.9893\n",
            "Epoch 5/10\n",
            "938/938 [==============================] - 11s 12ms/step - loss: 0.0542 - accuracy: 0.9834 - val_loss: 0.0361 - val_accuracy: 0.9913\n",
            "Epoch 6/10\n",
            "938/938 [==============================] - 11s 12ms/step - loss: 0.0494 - accuracy: 0.9849 - val_loss: 0.0299 - val_accuracy: 0.9921\n",
            "Epoch 7/10\n",
            "938/938 [==============================] - 11s 12ms/step - loss: 0.0451 - accuracy: 0.9859 - val_loss: 0.0339 - val_accuracy: 0.9900\n",
            "Epoch 8/10\n",
            "938/938 [==============================] - 11s 12ms/step - loss: 0.0416 - accuracy: 0.9869 - val_loss: 0.0286 - val_accuracy: 0.9910\n",
            "Epoch 9/10\n",
            "938/938 [==============================] - 12s 12ms/step - loss: 0.0394 - accuracy: 0.9870 - val_loss: 0.0296 - val_accuracy: 0.9915\n",
            "Epoch 10/10\n",
            "938/938 [==============================] - 11s 12ms/step - loss: 0.0387 - accuracy: 0.9878 - val_loss: 0.0299 - val_accuracy: 0.9905\n",
            "313/313 [==============================] - 1s 3ms/step - loss: 0.0299 - accuracy: 0.9905\n",
            "\n",
            "Test loss: 0.029858093708753586\n",
            "Test accuracy: 0.9904999732971191\n"
          ]
        }
      ],
      "source": [
        "# training parameters\n",
        "batch_size = 64\n",
        "epochs = 10\n",
        "\n",
        "# create the deep conv net\n",
        "model_CNN=create_CNN()\n",
        "\n",
        "# train CNN\n",
        "model_CNN.fit(X_train, Y_train,\n",
        "          batch_size=batch_size,\n",
        "          epochs=epochs,\n",
        "          verbose=1,\n",
        "          validation_data=(X_test, Y_test))\n",
        "\n",
        "# evaliate model\n",
        "score = model_CNN.evaluate(X_test, Y_test, verbose=1)\n",
        "\n",
        "# print performance\n",
        "print()\n",
        "print('Test loss:', score[0])\n",
        "print('Test accuracy:', score[1])"
      ]
    },
    {
      "cell_type": "code",
      "execution_count": null,
      "metadata": {
        "id": "6AiC9EQ2zOg0"
      },
      "outputs": [],
      "source": []
    }
  ],
  "metadata": {
    "colab": {
      "provenance": []
    },
    "kernelspec": {
      "display_name": "py580",
      "language": "python",
      "name": "python3"
    },
    "language_info": {
      "codemirror_mode": {
        "name": "ipython",
        "version": 3
      },
      "file_extension": ".py",
      "mimetype": "text/x-python",
      "name": "python",
      "nbconvert_exporter": "python",
      "pygments_lexer": "ipython3",
      "version": "3.9.16"
    },
    "vscode": {
      "interpreter": {
        "hash": "fd0730584c94b478c30d3591fb1d7afff186bbe35fef82422a559da65603adf5"
      }
    }
  },
  "nbformat": 4,
  "nbformat_minor": 0
}
