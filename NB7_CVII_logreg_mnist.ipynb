{
  "cells": [
    {
      "cell_type": "markdown",
      "metadata": {
        "id": "8SOzgoFt9HDf"
      },
      "source": [
        "# Notebook 7: Logistic Regression and SoftMax for MNIST"
      ]
    },
    {
      "cell_type": "markdown",
      "metadata": {
        "id": "5S94yk1l9HDl"
      },
      "source": [
        "## Learning Goal\n",
        "\n",
        "The goal of this notebook is to familiarize the reader with SoftMax regression (a generalization of logistic regression to more than two categories), categorical predictions, and the MNIST handwritten dataset. The reader will understand how to use the Scikit Logistic regression package and visualize learned weights.\n",
        "\n",
        "## Overview\n",
        "### The MNIST dataset:\n",
        "The MNIST classification problem is one of the classical ML problems for learning classification on high-dimensional data with a fairly sizable number of examples (60000). Yann LeCun and collaborators collected and processed $70000$ handwritten digits (60000 are used for training and 10000 for testing) to produce what became known as one of the most widely used datasets in ML: the [MNIST](http://yann.lecun.com/exdb/mnist/) dataset. Each handwritten digit comes in a grayscale square image in the shape of a $28\\times 28$ pixel grid. Every pixel takes a value in the range $[0,255]$, representing $256$ nuances of the gray color. The problem of image classification finds applications in a wide range of fields and is important for numerous industry applications of ML. \n",
        "### SoftMax regression:\n",
        "We will use SoftMax regression, which can be thought of as a statistical model which assigns a probability that a given input image corresponds to any of the 10 handwritten digits. The model is a generalization of the logistic regression and reads:\n",
        "\\begin{align}\n",
        "p(y=i|\\boldsymbol{x};W) = \\frac{e^{\\boldsymbol{w}_i^T \\boldsymbol{x}}}{\\sum_{j=0}^9 e^{\\boldsymbol{w}_j^T}},\n",
        "\\end{align}\n",
        "Where $p(y=i|\\boldsymbol{x};W)$ is the probability that input $\\boldsymbol{x}$ is the $i$-th digit, $i\\in[0,9]$.\n",
        "The model also has 10 weight vectors $\\boldsymbol{w}_i$ which we will train below. Finally, one can use this information for prediction by taking the value of $y$ for which this probability is maximized:\n",
        "\\begin{align}\n",
        "y_{pred}=\\arg\\max_i p(y=i|\\boldsymbol{x})\n",
        "\\end{align}\n",
        "\n",
        "## Numerical Experiments\n",
        "\n",
        "The reader is invited to check out the code below to build up their intuition about SoftMax regression. The following notebook is a slight modification of [this Scikit tutorial](http://scikit-learn.org/dev/auto_examples/linear_model/plot_sparse_logistic_regression_mnist.html) by Arthur Mensch on studying the MNIST problem using Logistic Regression."
      ]
    },
    {
      "cell_type": "code",
      "execution_count": 2,
      "metadata": {
        "id": "bfxLTrYu9HDn",
        "outputId": "2d91506f-b09d-49d0-c043-4d44d6528538",
        "scrolled": true
      },
      "outputs": [
        {
          "name": "stdout",
          "output_type": "stream",
          "text": [
            "Automatically created module for IPython interactive environment\n"
          ]
        },
        {
          "name": "stderr",
          "output_type": "stream",
          "text": [
            "/opt/anaconda3/envs/py580/lib/python3.9/site-packages/sklearn/datasets/_openml.py:932: FutureWarning: The default value of `parser` will change from `'liac-arff'` to `'auto'` in 1.4. You can set `parser='auto'` to silence this warning. Therefore, an `ImportError` will be raised from 1.4 if the dataset is dense and pandas is not installed. Note that the pandas parser may return different data types. See the Notes Section in fetch_openml's API doc for details.\n",
            "  warn(\n"
          ]
        },
        {
          "name": "stdout",
          "output_type": "stream",
          "text": [
            "Example run in 55.867 s\n",
            "Sparsity with L2 penalty: 9.57%\n",
            "Test score with L2 penalty: 0.9008\n"
          ]
        }
      ],
      "source": [
        "import time\n",
        "import numpy as np\n",
        "\n",
        "from sklearn.datasets import fetch_openml # MNIST data\n",
        "from sklearn.linear_model import LogisticRegression\n",
        "from sklearn.model_selection import train_test_split\n",
        "from sklearn.preprocessing import StandardScaler\n",
        "from sklearn.utils import check_random_state\n",
        "\n",
        "print(__doc__)\n",
        "\n",
        "# Turn down for faster convergence\n",
        "t0 = time.time()\n",
        "train_size = 50000\n",
        "test_size = 10000\n",
        "\n",
        "### load MNIST data from https://www.openml.org/d/554\n",
        "X, y = fetch_openml('mnist_784', version=1, return_X_y=True)\n",
        "\n",
        "# shuffle data\n",
        "random_state = check_random_state(0)\n",
        "permutation = random_state.permutation(X.shape[0])\n",
        "# X = X[permutation]\n",
        "# y = y[permutation]\n",
        "# X = X.reshape((X.shape[0], -1))\n",
        "\n",
        "# pick training and test data sets \n",
        "X_train, X_test, y_train, y_test = train_test_split(X,y,train_size=train_size,test_size=test_size)\n",
        "\n",
        "# scale data to have zero mean and unit variance [required by regressor]\n",
        "scaler = StandardScaler()\n",
        "X_train = scaler.fit_transform(X_train)\n",
        "X_test = scaler.transform(X_test)\n",
        "\n",
        "# apply logistic regressor with 'sag' solver, C is the inverse regularization strength\n",
        "clf = LogisticRegression(C=1e5,\n",
        "                         multi_class='multinomial',\n",
        "                         penalty='l2', solver='sag', tol=0.1)\n",
        "# fit data\n",
        "clf.fit(X_train, y_train)\n",
        "# percentage of nonzero weights\n",
        "sparsity = np.mean(clf.coef_ == 0) * 100\n",
        "# compute accuracy\n",
        "score = clf.score(X_test, y_test)\n",
        "\n",
        "#display run time\n",
        "run_time = time.time() - t0\n",
        "print('Example run in %.3f s' % run_time)\n",
        "\n",
        "print(\"Sparsity with L2 penalty: %.2f%%\" % sparsity)\n",
        "print(\"Test score with L2 penalty: %.4f\" % score)"
      ]
    },
    {
      "cell_type": "code",
      "execution_count": 2,
      "metadata": {
        "id": "sQAS49Wh9HDq",
        "outputId": "b1d79bc3-34bc-4465-d532-efab82bc17d5"
      },
      "outputs": [
        {
          "data": {
            "image/png": "[encoded data removed]",
            "text/plain": [
              "<Figure size 1000x500 with 10 Axes>"
            ]
          },
          "metadata": {},
          "output_type": "display_data"
        }
      ],
      "source": [
        "%matplotlib inline\n",
        "import matplotlib.pyplot as plt\n",
        "\n",
        "# plot weights vs the pixel position\n",
        "coef = clf.coef_.copy()\n",
        "plt.figure(figsize=(10, 5))\n",
        "scale = np.abs(coef).max()\n",
        "for i in range(10):\n",
        "    l2_plot = plt.subplot(2, 5, i + 1)\n",
        "    l2_plot.imshow(coef[i].reshape(28, 28), interpolation='nearest',\n",
        "                   cmap=plt.cm.Greys, vmin=-scale, vmax=scale)\n",
        "    l2_plot.set_xticks(())\n",
        "    l2_plot.set_yticks(())\n",
        "    l2_plot.set_xlabel('Class %i' % i)\n",
        "plt.suptitle('classification weights vector $w_j$ for digit class $j$')\n",
        "\n",
        "plt.show()"
      ]
    },
    {
      "attachments": {},
      "cell_type": "markdown",
      "metadata": {
        "collapsed": true,
        "id": "4yXiRZZM9HDr"
      },
      "source": [
        "### Exercises: ###  \n",
        "- The snippet above invoked the \"sag\" solver which only deals with $L2$ regularization. Try another solver, e.g. 'liblinear', in scikit that supports $L1$ regularization. You can find more details on <a href=\"http://scikit-learn.org/stable/modules/generated/sklearn.linear_model.LogisticRegression.html\"> http://scikit-learn.org/stable/modules/generated/sklearn.linear_model.LogisticRegression.html.</a>\n",
        "- Visualize the misclassified samples. Analyze on how logistic regression performs on MNIST, and note this since we will study the MNIST problem later on using deep neural nets.\n",
        "\n",
        "- Try to vary the size of the training set and see how that affects the accuracy.\n",
        "- [Theory] In this notebook, we considered a $K=10$ multi-class logistic regression (MLR) also known as the SoftMax regression. Recall that the our model reads:\n",
        "$$\n",
        "p(y=i|\\boldsymbol{x};W) = \\frac{e^{\\boldsymbol{w}_i^T \\boldsymbol{x}}}{\\sum_{j=0}^9 e^{\\boldsymbol{w}_j^T \\boldsymbol{x}}}\n",
        "$$\n",
        "Use this to construct the likelihood function $P(y|\\boldsymbol{x})$.\n",
        "\n",
        "- [Theory] Now consider we're given a set of i.i.d. data $\\mathcal{D}=\\{(\\boldsymbol{x}_1,y_1),\\cdots, (\\boldsymbol{x}_n,y_n)\\}$. As we argued in the main text, the cross-entropy error used in logistic regression is motivated by maximizing the likelihood (or equivalently, minimizing the negative log-likelihood), find the corresponding error function $E(\\boldsymbol{w}_0,\\cdots,\\boldsymbol{w}_9)$ in MLR using the hypothesis above. \n",
        "\n",
        "- [Theory] Using the error function derived above, calculate its gradient $\\frac{\\partial E}{\\partial \\boldsymbol{w}_k}$. Can you find an elegant way of writing the gradient?"
      ]
    },
    {
      "attachments": {},
      "cell_type": "markdown",
      "metadata": {},
      "source": [
        "**Exercise 1**: The snippet above invoked the \"sag\" solver which only deals with $L2$ regularization. Try another solver, e.g. 'liblinear', in scikit that supports $L1$ regularization. You can find more details on <a href=\"http://scikit-learn.org/stable/modules/generated/sklearn.linear_model.LogisticRegression.html\"> http://scikit-learn.org/stable/modules/generated/sklearn.linear_model.LogisticRegression.html.</a>"
      ]
    },
    {
      "cell_type": "code",
      "execution_count": 1,
      "metadata": {
        "id": "_dBg8Fc69HDs"
      },
      "outputs": [
        {
          "name": "stdout",
          "output_type": "stream",
          "text": [
            "Automatically created module for IPython interactive environment\n"
          ]
        },
        {
          "name": "stderr",
          "output_type": "stream",
          "text": [
            "/opt/anaconda3/envs/py580/lib/python3.9/site-packages/sklearn/datasets/_openml.py:932: FutureWarning: The default value of `parser` will change from `'liac-arff'` to `'auto'` in 1.4. You can set `parser='auto'` to silence this warning. Therefore, an `ImportError` will be raised from 1.4 if the dataset is dense and pandas is not installed. Note that the pandas parser may return different data types. See the Notes Section in fetch_openml's API doc for details.\n",
            "  warn(\n"
          ]
        },
        {
          "name": "stdout",
          "output_type": "stream",
          "text": [
            "[LibLinear]iter   1  #CD cycles 1\n",
            "iter   2  #CD cycles 1\n",
            "iter   3  #CD cycles 1\n",
            "iter   4  #CD cycles 1\n",
            "iter   5  #CD cycles 4\n",
            "iter   6  #CD cycles 3\n",
            "iter   7  #CD cycles 2\n",
            "iter   8  #CD cycles 1\n",
            "iter   9  #CD cycles 10\n",
            "iter  10  #CD cycles 10\n",
            "=========================\n",
            "optimization finished, #iter = 10\n",
            "WARNING: reaching max number of iterations\n",
            "Objective value = 152482.912337\n",
            "#nonzeros/#features = 710/785\n",
            "iter   1  #CD cycles 1\n",
            "iter   2  #CD cycles 1\n",
            "iter   3  #CD cycles 1\n",
            "iter   4  #CD cycles 1\n",
            "iter   5  #CD cycles 5\n",
            "iter   6  #CD cycles 5\n",
            "iter   7  #CD cycles 5\n",
            "WARNING: reaching max number of inner iterations\n",
            "iter   8  #CD cycles 1000\n",
            "WARNING: reaching max number of inner iterations\n",
            "iter   9  #CD cycles 1000\n"
          ]
        }
      ],
      "source": [
        "import time\n",
        "import numpy as np\n",
        "\n",
        "from sklearn.datasets import fetch_openml # MNIST data\n",
        "from sklearn.linear_model import LogisticRegression\n",
        "from sklearn.model_selection import train_test_split\n",
        "from sklearn.preprocessing import StandardScaler\n",
        "from sklearn.utils import check_random_state\n",
        "\n",
        "print(__doc__)\n",
        "\n",
        "# Turn down for faster convergence\n",
        "t0 = time.time()\n",
        "train_size = 50000\n",
        "test_size = 10000\n",
        "\n",
        "### load MNIST data from https://www.openml.org/d/554\n",
        "X, y = fetch_openml('mnist_784', version=1, return_X_y=True)\n",
        "\n",
        "# shuffle data\n",
        "random_state = check_random_state(0)\n",
        "permutation = random_state.permutation(X.shape[0])\n",
        "# X = X[permutation]\n",
        "# y = y[permutation]\n",
        "# X = X.reshape((X.shape[0], -1))\n",
        "\n",
        "# pick training and test data sets \n",
        "X_train, X_test, y_train, y_test = train_test_split(X,y,train_size=train_size,test_size=test_size)\n",
        "\n",
        "# scale data to have zero mean and unit variance [required by regressor]\n",
        "scaler = StandardScaler()\n",
        "X_train = scaler.fit_transform(X_train)\n",
        "X_test = scaler.transform(X_test)\n",
        "\n",
        "# scale data to have zero mean and unit variance [required by regressor]\n",
        "scaler = StandardScaler()\n",
        "X_train = scaler.fit_transform(X_train)\n",
        "X_test = scaler.transform(X_test)\n",
        "\n",
        "# apply logistic regressor with 'sag' solver, C is the inverse regularization strength\n",
        "clf = LogisticRegression(C=1e2, random_state=random_state, verbose=1, max_iter=10,\n",
        "                         penalty='l1', solver='liblinear', tol=1E-5)\n",
        "# fit data\n",
        "clf.fit(X_train, y_train)\n",
        "# percentage of nonzero weights\n",
        "sparsity = np.mean(clf.coef_ == 0) * 100\n",
        "# compute accuracy\n",
        "score = clf.score(X_test, y_test)\n",
        "\n",
        "print(\"Sparsity with L1 penalty: %.2f%%\" % sparsity)\n",
        "print(\"Test score with L1 penalty: %.4f\" % score)"
      ]
    },
    {
      "cell_type": "code",
      "execution_count": null,
      "metadata": {},
      "outputs": [],
      "source": [
        "%matplotlib inline\n",
        "import matplotlib.pyplot as plt\n",
        "\n",
        "# plot weights vs the pixel position\n",
        "coef = clf.coef_.copy()\n",
        "plt.figure(figsize=(10, 5))\n",
        "scale = np.abs(coef).max()\n",
        "for i in range(10):\n",
        "    l2_plot = plt.subplot(2, 5, i + 1)\n",
        "    l2_plot.imshow(coef[i].reshape(28, 28), interpolation='nearest',\n",
        "                   cmap=plt.cm.Greys, vmin=-scale, vmax=scale)\n",
        "    l2_plot.set_xticks(())\n",
        "    l2_plot.set_yticks(())\n",
        "    l2_plot.set_xlabel('Class %i' % i)\n",
        "plt.suptitle('classification weights vector $w_j$ for digit class $j$')"
      ]
    },
    {
      "attachments": {},
      "cell_type": "markdown",
      "metadata": {},
      "source": [
        "**Answer 1**: Not sure why but `liblinear` with `L1` penalty takes forever to finish..."
      ]
    },
    {
      "attachments": {},
      "cell_type": "markdown",
      "metadata": {},
      "source": [
        "**Exercise 3**: Try to vary the size of the training set and see how that affects the accuracy."
      ]
    },
    {
      "cell_type": "code",
      "execution_count": 1,
      "metadata": {},
      "outputs": [
        {
          "name": "stdout",
          "output_type": "stream",
          "text": [
            "Automatically created module for IPython interactive environment\n"
          ]
        },
        {
          "name": "stderr",
          "output_type": "stream",
          "text": [
            "/opt/anaconda3/envs/py580/lib/python3.9/site-packages/sklearn/datasets/_openml.py:932: FutureWarning: The default value of `parser` will change from `'liac-arff'` to `'auto'` in 1.4. You can set `parser='auto'` to silence this warning. Therefore, an `ImportError` will be raised from 1.4 if the dataset is dense and pandas is not installed. Note that the pandas parser may return different data types. See the Notes Section in fetch_openml's API doc for details.\n",
            "  warn(\n"
          ]
        },
        {
          "name": "stdout",
          "output_type": "stream",
          "text": [
            "Sparsity with L2 penalty: 8.93%\n",
            "Test score with L2 penalty: 0.8893\n",
            "Sparsity with L2 penalty: 10.84%\n",
            "Test score with L2 penalty: 0.8923\n",
            "Sparsity with L2 penalty: 13.27%\n",
            "Test score with L2 penalty: 0.8883\n"
          ]
        }
      ],
      "source": [
        "import time\n",
        "import numpy as np\n",
        "\n",
        "from sklearn.datasets import fetch_openml # MNIST data\n",
        "from sklearn.linear_model import LogisticRegression\n",
        "from sklearn.model_selection import train_test_split\n",
        "from sklearn.preprocessing import StandardScaler\n",
        "from sklearn.utils import check_random_state\n",
        "\n",
        "print(__doc__)\n",
        "\n",
        "# Turn down for faster convergence\n",
        "t0 = time.time()\n",
        "train_size = 50000\n",
        "test_size = 10000\n",
        "\n",
        "### load MNIST data from https://www.openml.org/d/554\n",
        "X, y = fetch_openml('mnist_784', version=1, return_X_y=True)\n",
        "\n",
        "# shuffle data\n",
        "random_state = check_random_state(0)\n",
        "permutation = random_state.permutation(X.shape[0])\n",
        "# X = X[permutation]\n",
        "# y = y[permutation]\n",
        "# X = X.reshape((X.shape[0], -1))\n",
        "\n",
        "# pick training and test data sets \n",
        "X_train, X_test, y_train, y_test = train_test_split(X,y,train_size=train_size,test_size=test_size)\n",
        "\n",
        "# scale data to have zero mean and unit variance [required by regressor]\n",
        "scaler = StandardScaler()\n",
        "X_train = scaler.fit_transform(X_train)\n",
        "X_test = scaler.transform(X_test)\n",
        "\n",
        "X_train1, X_test1, y_train1, y_test1 = train_test_split(X,y,train_size=25000,test_size=test_size)\n",
        "\n",
        "# scale data to have zero mean and unit variance [required by regressor]\n",
        "scaler = StandardScaler()\n",
        "X_train1 = scaler.fit_transform(X_train1)\n",
        "X_test1 = scaler.transform(X_test1)\n",
        "\n",
        "# scale data to have zero mean and unit variance [required by regressor]\n",
        "scaler = StandardScaler()\n",
        "X_train = scaler.fit_transform(X_train)\n",
        "X_test = scaler.transform(X_test)\n",
        "\n",
        "X_train2, X_test2, y_train2, y_test2 = train_test_split(X,y,train_size=10000,test_size=test_size)\n",
        "\n",
        "# scale data to have zero mean and unit variance [required by regressor]\n",
        "scaler = StandardScaler()\n",
        "X_train2 = scaler.fit_transform(X_train2)\n",
        "X_test2 = scaler.transform(X_test2)\n",
        "\n",
        "# apply logistic regressor with 'sag' solver, C is the inverse regularization strength\n",
        "clf = LogisticRegression(C=1e5,\n",
        "                         multi_class='multinomial',\n",
        "                         penalty='l2', solver='sag', tol=0.1)\n",
        "# fit data\n",
        "clf.fit(X_train, y_train)\n",
        "# percentage of nonzero weights\n",
        "sparsity = np.mean(clf.coef_ == 0) * 100\n",
        "# compute accuracy\n",
        "score = clf.score(X_test, y_test)\n",
        "\n",
        "print(\"Sparsity with L2 penalty: %.2f%%\" % sparsity)\n",
        "print(\"Test score with L2 penalty: %.4f\" % score)\n",
        "\n",
        "# apply logistic regressor with 'sag' solver, C is the inverse regularization strength\n",
        "clf = LogisticRegression(C=1e5,\n",
        "                         multi_class='multinomial',\n",
        "                         penalty='l2', solver='sag', tol=0.1)\n",
        "# fit data\n",
        "clf.fit(X_train1, y_train1)\n",
        "# percentage of nonzero weights\n",
        "sparsity = np.mean(clf.coef_ == 0) * 100\n",
        "# compute accuracy\n",
        "score = clf.score(X_test1, y_test1)\n",
        "\n",
        "print(\"Sparsity with L2 penalty: %.2f%%\" % sparsity)\n",
        "print(\"Test score with L2 penalty: %.4f\" % score)\n",
        "\n",
        "# apply logistic regressor with 'sag' solver, C is the inverse regularization strength\n",
        "clf = LogisticRegression(C=1e5,\n",
        "                         multi_class='multinomial',\n",
        "                         penalty='l2', solver='sag', tol=0.1)\n",
        "# fit data\n",
        "clf.fit(X_train2, y_train2)\n",
        "# percentage of nonzero weights\n",
        "sparsity = np.mean(clf.coef_ == 0) * 100\n",
        "# compute accuracy\n",
        "score = clf.score(X_test1, y_test1)\n",
        "\n",
        "print(\"Sparsity with L2 penalty: %.2f%%\" % sparsity)\n",
        "print(\"Test score with L2 penalty: %.4f\" % score)"
      ]
    },
    {
      "attachments": {},
      "cell_type": "markdown",
      "metadata": {},
      "source": [
        "**Answer 3**: This is the test scores for training sizess `50000`, `25000`, and `10000`. We find that the training set with size `25000` performs best."
      ]
    },
    {
      "cell_type": "markdown",
      "metadata": {},
      "source": []
    }
  ],
  "metadata": {
    "colab": {
      "provenance": []
    },
    "kernelspec": {
      "display_name": "py580",
      "language": "python",
      "name": "python3"
    },
    "language_info": {
      "codemirror_mode": {
        "name": "ipython",
        "version": 3
      },
      "file_extension": ".py",
      "mimetype": "text/x-python",
      "name": "python",
      "nbconvert_exporter": "python",
      "pygments_lexer": "ipython3",
      "version": "3.9.16"
    },
    "vscode": {
      "interpreter": {
        "hash": "fd0730584c94b478c30d3591fb1d7afff186bbe35fef82422a559da65603adf5"
      }
    }
  },
  "nbformat": 4,
  "nbformat_minor": 0
}
